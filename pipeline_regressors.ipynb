{
 "cells": [
  {
   "cell_type": "code",
   "execution_count": 1,
   "metadata": {
    "collapsed": false
   },
   "outputs": [
    {
     "name": "stdout",
     "output_type": "stream",
     "text": [
      "Populating the interactive namespace from numpy and matplotlib\n"
     ]
    }
   ],
   "source": [
    "%pylab inline"
   ]
  },
  {
   "cell_type": "code",
   "execution_count": 3,
   "metadata": {
    "collapsed": false
   },
   "outputs": [
    {
     "name": "stdout",
     "output_type": "stream",
     "text": [
      "['C:\\\\data\\\\graduate_thesis\\\\hcp\\\\100307_3T_tfMRI_SOCIAL_preproc\\\\100307\\\\MNINonLinear\\\\Results\\\\tfMRI_SOCIAL_LR\\\\Movement_Regressors.txt', 'C:\\\\data\\\\graduate_thesis\\\\hcp\\\\103414_3T_tfMRI_SOCIAL_preproc\\\\103414\\\\MNINonLinear\\\\Results\\\\tfMRI_SOCIAL_LR\\\\Movement_Regressors.txt', 'C:\\\\data\\\\graduate_thesis\\\\hcp\\\\105115_3T_tfMRI_SOCIAL_preproc\\\\105115\\\\MNINonLinear\\\\Results\\\\tfMRI_SOCIAL_LR\\\\Movement_Regressors.txt']\n"
     ]
    }
   ],
   "source": [
    "import os\n",
    "\n",
    "movregr_paths_LR = []\n",
    "for (dirpath, dirnames, filenames) in os.walk('C:\\data\\graduate_thesis\\hcp'):\n",
    "    for filename in filenames:        \n",
    "        if filename.endswith('Movement_Regressors.txt') and 'LR' in dirpath: \n",
    "            movregr_paths_LR.append(os.sep.join([dirpath, filename]))\n",
    "\n",
    "print(movregr_paths_LR)"
   ]
  },
  {
   "cell_type": "code",
   "execution_count": 30,
   "metadata": {
    "collapsed": false
   },
   "outputs": [],
   "source": [
    "MV = []\n",
    "MV_full = []\n",
    "for movregr_path_LR in movregr_paths_LR:\n",
    "    with open(movregr_path_LR) as mv_txt:\n",
    "        for line in mv_txt.readlines():\n",
    "            MV_line = []\n",
    "            line = line.strip()\n",
    "            for number in line.split():\n",
    "                MV_full.append(float(number))\n",
    "                MV_line.append(float(number))\n",
    "            MV.append(MV_line)"
   ]
  },
  {
   "cell_type": "code",
   "execution_count": 31,
   "metadata": {
    "collapsed": false
   },
   "outputs": [
    {
     "data": {
      "text/plain": [
       "822"
      ]
     },
     "execution_count": 31,
     "metadata": {},
     "output_type": "execute_result"
    }
   ],
   "source": [
    "len(MV)"
   ]
  },
  {
   "cell_type": "code",
   "execution_count": 33,
   "metadata": {
    "collapsed": false
   },
   "outputs": [
    {
     "data": {
      "text/plain": [
       "[[0.043626,\n",
       "  0.095402,\n",
       "  0.023255,\n",
       "  -0.055462,\n",
       "  0.0,\n",
       "  -0.028648,\n",
       "  0.0,\n",
       "  0.0,\n",
       "  0.0,\n",
       "  0.0,\n",
       "  0.0,\n",
       "  0.0]]"
      ]
     },
     "execution_count": 33,
     "metadata": {},
     "output_type": "execute_result"
    }
   ],
   "source": [
    "MV[:1]"
   ]
  },
  {
   "cell_type": "code",
   "execution_count": 34,
   "metadata": {
    "collapsed": false
   },
   "outputs": [
    {
     "data": {
      "text/plain": [
       "9864"
      ]
     },
     "execution_count": 34,
     "metadata": {},
     "output_type": "execute_result"
    }
   ],
   "source": [
    "len(MV_full)"
   ]
  },
  {
   "cell_type": "code",
   "execution_count": null,
   "metadata": {
    "collapsed": true
   },
   "outputs": [],
   "source": []
  }
 ],
 "metadata": {
  "anaconda-cloud": {},
  "kernelspec": {
   "display_name": "Python [default]",
   "language": "python",
   "name": "python3"
  },
  "language_info": {
   "codemirror_mode": {
    "name": "ipython",
    "version": 3
   },
   "file_extension": ".py",
   "mimetype": "text/x-python",
   "name": "python",
   "nbconvert_exporter": "python",
   "pygments_lexer": "ipython3",
   "version": "3.5.2"
  }
 },
 "nbformat": 4,
 "nbformat_minor": 1
}
